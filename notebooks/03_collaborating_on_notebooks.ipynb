{
 "cells": [
  {
   "cell_type": "markdown",
   "id": "780781b2",
   "metadata": {},
   "source": [
    "# 🤝 Collaborating on GitHub"
   ]
  },
  {
   "cell_type": "markdown",
   "id": "0e121540",
   "metadata": {},
   "source": [
    "## 🧭 Why Collaboration Matters\n",
    "In research, it's rare to work alone. GitHub helps teams track who did what, review each other's work, and merge ideas without losing anything."
   ]
  },
  {
   "cell_type": "markdown",
   "id": "d137523e",
   "metadata": {},
   "source": [
    "## 🎯 Learning Objectives\n",
    "- Understand branching and pull requests\n",
    "- Collaborate using GitHub’s review process"
   ]
  },
  {
   "cell_type": "markdown",
   "id": "037c607f",
   "metadata": {},
   "source": [
    "## 👣 Instructions"
   ]
  },
  {
   "cell_type": "markdown",
   "id": "68c13624",
   "metadata": {},
   "source": [
    "**1. Create a branch:**\n",
    "```bash\n",
    "git checkout -b feature-yourname\n",
    "```"
   ]
  },
  {
   "cell_type": "markdown",
   "id": "c8f4a2bd",
   "metadata": {},
   "source": [
    "**2. Edit a notebook, then commit:**\n",
    "```bash\n",
    "git add your_notebook.ipynb\n",
    "git commit -m \"Added my notebook\"\n",
    "```"
   ]
  },
  {
   "cell_type": "markdown",
   "id": "69e6bbdf",
   "metadata": {},
   "source": [
    "**3. Push to GitHub:**\n",
    "```bash\n",
    "git push origin feature-yourname\n",
    "```"
   ]
  },
  {
   "cell_type": "markdown",
   "id": "7af2255b",
   "metadata": {},
   "source": [
    "**4. Open a Pull Request on GitHub UI**\n",
    "Navigate to the repo, click 'Compare & Pull Request', and describe your change."
   ]
  },
  {
   "cell_type": "markdown",
   "id": "b9aaf266",
   "metadata": {},
   "source": [
    "## 💬 Group Activity\n",
    "Pair up and review each other’s pull requests. Ask questions or leave a comment before merging."
   ]
  },
  {
   "cell_type": "markdown",
   "id": "b2a2cbf9",
   "metadata": {},
   "source": [
    "## 🧠 Pro Tip\n",
    "GitHub lets you resolve merge conflicts and leave inline comments in notebooks!"
   ]
  }
 ],
 "metadata": {},
 "nbformat": 4,
 "nbformat_minor": 5
}
