{
 "cells": [
  {
   "cell_type": "markdown",
   "id": "481290c7",
   "metadata": {},
   "source": [
    "# Collaborating on GitHub"
   ]
  },
  {
   "cell_type": "markdown",
   "id": "d00b500e",
   "metadata": {},
   "source": [
    "## Why Collaboration Matters"
   ]
  },
  {
   "cell_type": "markdown",
   "id": "895a91b8",
   "metadata": {},
   "source": [
    "GitHub helps teams track contributions, review each other's work, and merge ideas without losing anything."
   ]
  },
  {
   "cell_type": "markdown",
   "id": "6e3c1d85",
   "metadata": {},
   "source": [
    "## Learning Objectives"
   ]
  },
  {
   "cell_type": "markdown",
   "id": "f320ce2a",
   "metadata": {},
   "source": [
    "- Understand branching and pull requests"
   ]
  },
  {
   "cell_type": "markdown",
   "id": "99619f88",
   "metadata": {},
   "source": [
    "- Collaborate using GitHub’s review process"
   ]
  },
  {
   "cell_type": "markdown",
   "id": "b49aef03",
   "metadata": {},
   "source": [
    "## Instructions"
   ]
  },
  {
   "cell_type": "markdown",
   "id": "0c467578",
   "metadata": {},
   "source": [
    "1. Create a branch:\n",
    "```bash\n",
    "git checkout -b feature-yourname\n",
    "```"
   ]
  },
  {
   "cell_type": "markdown",
   "id": "cb5016ae",
   "metadata": {},
   "source": [
    "2. Edit a notebook, then commit:\n",
    "```bash\n",
    "git add your_notebook.ipynb\n",
    "git commit -m \"Added my notebook\"\n",
    "```"
   ]
  },
  {
   "cell_type": "markdown",
   "id": "e4029da7",
   "metadata": {},
   "source": [
    "3. Push to GitHub:\n",
    "```bash\n",
    "git push origin feature-yourname\n",
    "```"
   ]
  },
  {
   "cell_type": "markdown",
   "id": "72a23ed3",
   "metadata": {},
   "source": [
    "4. Open a Pull Request on GitHub and describe your change."
   ]
  },
  {
   "cell_type": "markdown",
   "id": "faeceef0",
   "metadata": {},
   "source": [
    "## Group Activity"
   ]
  },
  {
   "cell_type": "markdown",
   "id": "a26bd172",
   "metadata": {},
   "source": [
    "Review each other’s pull requests. Ask questions or leave a comment before merging."
   ]
  }
 ],
 "metadata": {},
 "nbformat": 4,
 "nbformat_minor": 5
}
