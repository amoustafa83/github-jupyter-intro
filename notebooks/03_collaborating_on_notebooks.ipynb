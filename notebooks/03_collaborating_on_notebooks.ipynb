{
 "cells": [
  {
   "cell_type": "markdown",
   "id": "d04717d6",
   "metadata": {},
   "source": [
    "# 🤝 Collaborating on GitHub"
   ]
  },
  {
   "cell_type": "markdown",
   "id": "8858e877",
   "metadata": {},
   "source": [
    "## What is a Branch?\n",
    "A branch is a copy of your project where you can make changes independently. Later, you can merge it back into the main project."
   ]
  },
  {
   "cell_type": "markdown",
   "id": "caf3b55e",
   "metadata": {},
   "source": [
    "## Step-by-Step Collaboration Workflow"
   ]
  },
  {
   "cell_type": "markdown",
   "id": "95bbd92e",
   "metadata": {},
   "source": [
    "1. **Create a new branch:**\n",
    "```bash\n",
    "git checkout -b new-feature\n",
    "```"
   ]
  },
  {
   "cell_type": "markdown",
   "id": "17c1de21",
   "metadata": {},
   "source": [
    "2. **Make changes and commit:**\n",
    "```bash\n",
    "git add .\n",
    "git commit -m \"My new notebook\"\n",
    "```"
   ]
  },
  {
   "cell_type": "markdown",
   "id": "abb1b4f9",
   "metadata": {},
   "source": [
    "3. **Push the branch to GitHub:**\n",
    "```bash\n",
    "git push origin new-feature\n",
    "```"
   ]
  },
  {
   "cell_type": "markdown",
   "id": "53ef7d9d",
   "metadata": {},
   "source": [
    "4. **Open a Pull Request on GitHub UI**"
   ]
  },
  {
   "cell_type": "markdown",
   "id": "0a844a48",
   "metadata": {},
   "source": [
    "5. **Team members review, discuss, and merge the change**"
   ]
  },
  {
   "cell_type": "markdown",
   "id": "23e74b62",
   "metadata": {},
   "source": [
    "## Tips for Collaboration\n",
    "- Use clear commit messages\n",
    "- Keep branches small and focused\n",
    "- Use comments in Pull Requests"
   ]
  }
 ],
 "metadata": {},
 "nbformat": 4,
 "nbformat_minor": 5
}
