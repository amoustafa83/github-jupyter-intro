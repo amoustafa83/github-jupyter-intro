{
 "cells": [
  {
   "cell_type": "markdown",
   "id": "a9545995",
   "metadata": {},
   "source": [
    "# 🤝 Collaborating on GitHub"
   ]
  },
  {
   "cell_type": "markdown",
   "id": "708a6bbc",
   "metadata": {},
   "source": [
    "## 🎯 Learning Objectives\n",
    "- Create branches for parallel development\n",
    "- Push changes and open pull requests\n",
    "- Review and merge contributions"
   ]
  },
  {
   "cell_type": "markdown",
   "id": "545a31d2",
   "metadata": {},
   "source": [
    "## 🌿 What is a Branch?\n",
    "A branch is a copy of the project you can work on independently. Think of it like a sandbox or parallel timeline."
   ]
  },
  {
   "cell_type": "markdown",
   "id": "293564e1",
   "metadata": {},
   "source": [
    "## 👣 Step-by-Step Instructions"
   ]
  },
  {
   "cell_type": "markdown",
   "id": "844c46b7",
   "metadata": {},
   "source": [
    "### 1. Create a new branch:\n",
    "```bash\n",
    "git checkout -b add-analysis\n",
    "```"
   ]
  },
  {
   "cell_type": "markdown",
   "id": "854c7d20",
   "metadata": {},
   "source": [
    "### 2. Make changes, then stage and commit:\n",
    "```bash\n",
    "git add new_analysis.ipynb\n",
    "git commit -m \"Added new analysis notebook\"\n",
    "```"
   ]
  },
  {
   "cell_type": "markdown",
   "id": "c5c902c2",
   "metadata": {},
   "source": [
    "### 3. Push the branch:\n",
    "```bash\n",
    "git push origin add-analysis\n",
    "```"
   ]
  },
  {
   "cell_type": "markdown",
   "id": "9465d350",
   "metadata": {},
   "source": [
    "### 4. Go to GitHub and click 'Compare & pull request' to open a PR."
   ]
  },
  {
   "cell_type": "markdown",
   "id": "d20164b6",
   "metadata": {},
   "source": [
    "### 5. Review the PR with teammates, add comments, then click 'Merge'."
   ]
  }
 ],
 "metadata": {},
 "nbformat": 4,
 "nbformat_minor": 5
}
