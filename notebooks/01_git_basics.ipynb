{
 "cells": [
  {
   "cell_type": "markdown",
   "id": "f521a6ed",
   "metadata": {},
   "source": [
    "# 🔧 Git Basics with GitHub"
   ]
  },
  {
   "cell_type": "markdown",
   "id": "fafb5dd1",
   "metadata": {},
   "source": [
    "## 🧭 Welcome & Setup\n",
    "Welcome to the MS-CC workshop! In this lesson, we'll introduce Git and GitHub for version control. If this is your first time using Git, don't worry — we'll guide you step-by-step."
   ]
  },
  {
   "cell_type": "markdown",
   "id": "ec5e2edf",
   "metadata": {},
   "source": [
    "## 🎯 Learning Objectives\n",
    "- Understand what Git and GitHub are\n",
    "- Learn basic Git commands\n",
    "- Practice cloning, editing, committing, and pushing to GitHub"
   ]
  },
  {
   "cell_type": "markdown",
   "id": "f10d72f4",
   "metadata": {},
   "source": [
    "## 🧠 What is Version Control?\n",
    "Think of Git as a save button that also keeps a history of everything you've done. GitHub is where you store those saved versions online and collaborate with others."
   ]
  },
  {
   "cell_type": "markdown",
   "id": "12dca954",
   "metadata": {},
   "source": [
    "## 👣 Step-by-Step Instructions"
   ]
  },
  {
   "cell_type": "markdown",
   "id": "575f61d8",
   "metadata": {},
   "source": [
    "**1. Clone the workshop repository:**\n",
    "```bash\n",
    "git clone https://github.com/ms-cc-org/github-jupyter-intro.git\n",
    "cd github-jupyter-intro\n",
    "```"
   ]
  },
  {
   "cell_type": "markdown",
   "id": "81f399a6",
   "metadata": {},
   "source": [
    "**2. Create and edit a file:**\n",
    "```bash\n",
    "echo \"This is my first commit!\" > welcome.txt\n",
    "```"
   ]
  },
  {
   "cell_type": "markdown",
   "id": "b07a908d",
   "metadata": {},
   "source": [
    "**3. Save your change:**\n",
    "```bash\n",
    "git add welcome.txt\n",
    "git commit -m \"Added welcome.txt\"\n",
    "```"
   ]
  },
  {
   "cell_type": "markdown",
   "id": "10f3c627",
   "metadata": {},
   "source": [
    "**4. Push to GitHub:**\n",
    "```bash\n",
    "git push origin main\n",
    "```"
   ]
  },
  {
   "cell_type": "markdown",
   "id": "a165a6cb",
   "metadata": {},
   "source": [
    "## 💬 Group Prompt\n",
    "Turn to a neighbor and discuss: Where might version control help in your own work or research?"
   ]
  },
  {
   "cell_type": "markdown",
   "id": "7faf4d0a",
   "metadata": {},
   "source": [
    "## 🧩 Bonus Challenge\n",
    "Create a new branch and edit a file. Can you open a pull request?"
   ]
  }
 ],
 "metadata": {},
 "nbformat": 4,
 "nbformat_minor": 5
}
