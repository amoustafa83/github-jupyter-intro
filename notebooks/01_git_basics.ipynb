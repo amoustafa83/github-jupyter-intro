{
 "cells": [
  {
   "cell_type": "markdown",
   "id": "d0dc8a75",
   "metadata": {},
   "source": [
    "# Git Basics with GitHub"
   ]
  },
  {
   "cell_type": "markdown",
   "id": "d4b53284",
   "metadata": {},
   "source": [
    "## Welcome and Setup"
   ]
  },
  {
   "cell_type": "markdown",
   "id": "130b2eb1",
   "metadata": {},
   "source": [
    "In this lesson, we'll introduce Git and GitHub for version control. If this is your first time using Git, don't worry — we'll guide you step-by-step."
   ]
  },
  {
   "cell_type": "markdown",
   "id": "a42334e4",
   "metadata": {},
   "source": [
    "## Learning Objectives"
   ]
  },
  {
   "cell_type": "markdown",
   "id": "1d51dc2d",
   "metadata": {},
   "source": [
    "- Understand what Git and GitHub are"
   ]
  },
  {
   "cell_type": "markdown",
   "id": "cb564a65",
   "metadata": {},
   "source": [
    "- Learn basic Git commands"
   ]
  },
  {
   "cell_type": "markdown",
   "id": "d2ccae33",
   "metadata": {},
   "source": [
    "- Practice cloning, editing, committing, and pushing to GitHub"
   ]
  },
  {
   "cell_type": "markdown",
   "id": "9d4d9580",
   "metadata": {},
   "source": [
    "## What is Version Control?"
   ]
  },
  {
   "cell_type": "markdown",
   "id": "c119434f",
   "metadata": {},
   "source": [
    "Think of Git as a save button that also keeps a history of everything you've done. GitHub is where you store those saved versions online and collaborate with others."
   ]
  },
  {
   "cell_type": "markdown",
   "id": "53e68697",
   "metadata": {},
   "source": [
    "## Step-by-Step Instructions"
   ]
  },
  {
   "cell_type": "markdown",
   "id": "9c1f57cb",
   "metadata": {},
   "source": [
    "1. Clone the repository:\n",
    "```bash\n",
    "git clone https://github.com/ms-cc-org/github-jupyter-intro.git\n",
    "cd github-jupyter-intro\n",
    "```"
   ]
  },
  {
   "cell_type": "markdown",
   "id": "15deb8ab",
   "metadata": {},
   "source": [
    "2. Create and edit a file:\n",
    "```bash\n",
    "echo \"This is my first commit!\" > welcome.txt\n",
    "```"
   ]
  },
  {
   "cell_type": "markdown",
   "id": "17821a2c",
   "metadata": {},
   "source": [
    "3. Save your change:\n",
    "```bash\n",
    "git add welcome.txt\n",
    "git commit -m \"Added welcome.txt\"\n",
    "```"
   ]
  },
  {
   "cell_type": "markdown",
   "id": "e7d66bdd",
   "metadata": {},
   "source": [
    "4. Push to GitHub:\n",
    "```bash\n",
    "git push origin main\n",
    "```"
   ]
  },
  {
   "cell_type": "markdown",
   "id": "14519a19",
   "metadata": {},
   "source": [
    "## Group Prompt"
   ]
  },
  {
   "cell_type": "markdown",
   "id": "d4fd44e5",
   "metadata": {},
   "source": [
    "Discuss with a neighbor: Where might version control help in your own work or research?"
   ]
  }
 ],
 "metadata": {},
 "nbformat": 4,
 "nbformat_minor": 5
}
