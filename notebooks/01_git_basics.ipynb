{
 "cells": [
  {
   "cell_type": "markdown",
   "id": "445fe00b",
   "metadata": {},
   "source": [
    "# 🔧 Git Basics with GitHub"
   ]
  },
  {
   "cell_type": "markdown",
   "id": "065aea25",
   "metadata": {},
   "source": [
    "## Objective\n",
    "Learn to clone a repository, make edits, and push changes back to GitHub."
   ]
  },
  {
   "cell_type": "markdown",
   "id": "666d6431",
   "metadata": {},
   "source": [
    "## Steps\n",
    "1. Clone a GitHub repository\n",
    "2. Make a change to a file\n",
    "3. Commit the change\n",
    "4. Push the update"
   ]
  },
  {
   "cell_type": "markdown",
   "id": "bb1900b4",
   "metadata": {},
   "source": [
    "```bash\n",
    "git clone https://github.com/YOUR-USERNAME/YOUR-REPO.git\n",
    "cd YOUR-REPO\n",
    "echo 'New content' >> file.txt\n",
    "git add file.txt\n",
    "git commit -m 'Added new content'\n",
    "git push\n",
    "```"
   ]
  }
 ],
 "metadata": {},
 "nbformat": 4,
 "nbformat_minor": 5
}
