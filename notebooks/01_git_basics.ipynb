{
 "cells": [
  {
   "cell_type": "markdown",
   "id": "0b975f37",
   "metadata": {},
   "source": [
    "# 🔧 Git Basics with GitHub"
   ]
  },
  {
   "cell_type": "markdown",
   "id": "8113d5c5",
   "metadata": {},
   "source": [
    "## 🎯 Learning Objectives\n",
    "- Understand what Git and GitHub are\n",
    "- Learn basic Git commands\n",
    "- Practice cloning, committing, and pushing to GitHub"
   ]
  },
  {
   "cell_type": "markdown",
   "id": "9ae53d86",
   "metadata": {},
   "source": [
    "## 🧠 Why Version Control?\n",
    "Version control lets you track changes, work with others, and revert mistakes. It's essential for collaborative coding and reproducible research."
   ]
  },
  {
   "cell_type": "markdown",
   "id": "993e8514",
   "metadata": {},
   "source": [
    "## 📘 Step-by-Step Instructions"
   ]
  },
  {
   "cell_type": "markdown",
   "id": "a427cf2c",
   "metadata": {},
   "source": [
    "### 1. Open your terminal or Git Bash."
   ]
  },
  {
   "cell_type": "markdown",
   "id": "35e4ca47",
   "metadata": {},
   "source": [
    "### 2. Clone the repository:\n",
    "```bash\n",
    "git clone https://github.com/YOUR-ORG/github-jupyter-intro.git\n",
    "cd github-jupyter-intro\n",
    "```"
   ]
  },
  {
   "cell_type": "markdown",
   "id": "5580f4d3",
   "metadata": {},
   "source": [
    "### 3. Create a file:\n",
    "```bash\n",
    "echo \"Hello GitHub!\" > hello.txt\n",
    "```"
   ]
  },
  {
   "cell_type": "markdown",
   "id": "733a35df",
   "metadata": {},
   "source": [
    "### 4. Stage and commit the file:\n",
    "```bash\n",
    "git add hello.txt\n",
    "git commit -m \"Added hello.txt\"\n",
    "```"
   ]
  },
  {
   "cell_type": "markdown",
   "id": "27a34064",
   "metadata": {},
   "source": [
    "### 5. Push the change:\n",
    "```bash\n",
    "git push origin main\n",
    "```"
   ]
  },
  {
   "cell_type": "markdown",
   "id": "711a8825",
   "metadata": {},
   "source": [
    "## ✅ Best Practices\n",
    "- Commit often\n",
    "- Write meaningful commit messages\n",
    "- Keep changes focused per commit"
   ]
  }
 ],
 "metadata": {},
 "nbformat": 4,
 "nbformat_minor": 5
}
