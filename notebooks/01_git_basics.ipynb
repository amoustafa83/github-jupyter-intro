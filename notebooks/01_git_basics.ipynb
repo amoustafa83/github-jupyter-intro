{
 "cells": [
  {
   "cell_type": "markdown",
   "id": "0249aa73",
   "metadata": {},
   "source": [
    "# 🔧 Git Basics with GitHub"
   ]
  },
  {
   "cell_type": "markdown",
   "id": "7885be06",
   "metadata": {},
   "source": [
    "## What is Git?\n",
    "Git is a version control system that lets you track changes to your files and collaborate with others. Think of it as a 'time machine' for your project."
   ]
  },
  {
   "cell_type": "markdown",
   "id": "35cd4eec",
   "metadata": {},
   "source": [
    "## What is GitHub?\n",
    "GitHub is a platform that hosts Git repositories online. It allows multiple people to work on the same project from anywhere."
   ]
  },
  {
   "cell_type": "markdown",
   "id": "b6551984",
   "metadata": {},
   "source": [
    "![Git Workflow Diagram](https://education.github.com/git-cheat-sheet-education.pdf)"
   ]
  },
  {
   "cell_type": "markdown",
   "id": "6caef146",
   "metadata": {},
   "source": [
    "## Step-by-Step Git Workflow"
   ]
  },
  {
   "cell_type": "markdown",
   "id": "53f9e1d7",
   "metadata": {},
   "source": [
    "1. **Clone a GitHub repo to your computer:**\n",
    "```bash\n",
    "git clone https://github.com/YOUR-ORG/github-jupyter-intro.git\n",
    "cd github-jupyter-intro\n",
    "```"
   ]
  },
  {
   "cell_type": "markdown",
   "id": "65e0d4db",
   "metadata": {},
   "source": [
    "2. **Create a new file and make changes:**\n",
    "```bash\n",
    "echo \"Hello GitHub\" > hello.txt\n",
    "```"
   ]
  },
  {
   "cell_type": "markdown",
   "id": "6047bd52",
   "metadata": {},
   "source": [
    "3. **Track and commit your changes:**\n",
    "```bash\n",
    "git add hello.txt\n",
    "git commit -m \"Added hello.txt\"\n",
    "```"
   ]
  },
  {
   "cell_type": "markdown",
   "id": "ff05587c",
   "metadata": {},
   "source": [
    "4. **Push your changes to GitHub:**\n",
    "```bash\n",
    "git push origin main\n",
    "```"
   ]
  },
  {
   "cell_type": "markdown",
   "id": "2986f647",
   "metadata": {},
   "source": [
    "## Common Git Commands\n",
    "| Command | Description |\n",
    "|---------|-------------|\n",
    "| `git clone` | Copy a remote repo |\n",
    "| `git add` | Stage files for commit |\n",
    "| `git commit` | Save a snapshot |\n",
    "| `git push` | Upload changes to GitHub |\n",
    "| `git pull` | Get updates from GitHub |"
   ]
  }
 ],
 "metadata": {},
 "nbformat": 4,
 "nbformat_minor": 5
}
