{
 "cells": [
  {
   "cell_type": "markdown",
   "id": "3e7c3c13",
   "metadata": {},
   "source": [
    "# Introduction: Why This Workshop Matters"
   ]
  },
  {
   "cell_type": "markdown",
   "id": "ab196ad4",
   "metadata": {},
   "source": [
    "## Workshop Context"
   ]
  },
  {
   "cell_type": "markdown",
   "id": "d60ca8ce",
   "metadata": {},
   "source": [
    "This MS-CC workshop is designed to provide foundational training in collaborative tools that support modern research, teaching, and project development."
   ]
  },
  {
   "cell_type": "markdown",
   "id": "80dc266e",
   "metadata": {},
   "source": []
  },
  {
   "cell_type": "markdown",
   "id": "36f4f87c",
   "metadata": {},
   "source": [
    "Institutions and individuals increasingly rely on tools like GitHub and Jupyter Notebooks to:"
   ]
  },
  {
   "cell_type": "markdown",
   "id": "693b2e91",
   "metadata": {},
   "source": [
    "- Document and share research"
   ]
  },
  {
   "cell_type": "markdown",
   "id": "24744df4",
   "metadata": {},
   "source": [
    "- Collaborate across teams or institutions"
   ]
  },
  {
   "cell_type": "markdown",
   "id": "5155c81e",
   "metadata": {},
   "source": [
    "- Build transparent, reproducible workflows"
   ]
  },
  {
   "cell_type": "markdown",
   "id": "1ddf02b8",
   "metadata": {},
   "source": []
  },
  {
   "cell_type": "markdown",
   "id": "e41551db",
   "metadata": {},
   "source": [
    "## Workshop Goals"
   ]
  },
  {
   "cell_type": "markdown",
   "id": "0e1aba03",
   "metadata": {},
   "source": [
    "- Introduce version control and cloud-based collaboration using GitHub"
   ]
  },
  {
   "cell_type": "markdown",
   "id": "bdd6b26f",
   "metadata": {},
   "source": [
    "- Familiarize participants with Jupyter Notebooks for research and teaching"
   ]
  },
  {
   "cell_type": "markdown",
   "id": "380c8422",
   "metadata": {},
   "source": [
    "- Demonstrate lightweight computing environments like Binder and Colab"
   ]
  },
  {
   "cell_type": "markdown",
   "id": "2eafcab2",
   "metadata": {},
   "source": []
  },
  {
   "cell_type": "markdown",
   "id": "01e6fab9",
   "metadata": {},
   "source": [
    "## How to Think About Collaboration"
   ]
  },
  {
   "cell_type": "markdown",
   "id": "4486620e",
   "metadata": {},
   "source": [
    "Collaborative work isn't just about sharing documents. It's about:"
   ]
  },
  {
   "cell_type": "markdown",
   "id": "d1c89b68",
   "metadata": {},
   "source": [
    "- Tracking contributions clearly"
   ]
  },
  {
   "cell_type": "markdown",
   "id": "bb6e6acf",
   "metadata": {},
   "source": [
    "- Managing versions of code, text, and data"
   ]
  },
  {
   "cell_type": "markdown",
   "id": "33064e53",
   "metadata": {},
   "source": [
    "- Enabling others to reproduce and extend your work"
   ]
  },
  {
   "cell_type": "markdown",
   "id": "0c5d6ad1",
   "metadata": {},
   "source": []
  },
  {
   "cell_type": "markdown",
   "id": "08e2bde0",
   "metadata": {},
   "source": [
    "## What You Will Do"
   ]
  },
  {
   "cell_type": "markdown",
   "id": "36fb3d60",
   "metadata": {},
   "source": [
    "- Practice version control with Git"
   ]
  },
  {
   "cell_type": "markdown",
   "id": "52b36876",
   "metadata": {},
   "source": [
    "- Edit and execute Jupyter Notebooks"
   ]
  },
  {
   "cell_type": "markdown",
   "id": "5ea33a1e",
   "metadata": {},
   "source": [
    "- Collaborate through GitHub pull requests"
   ]
  },
  {
   "cell_type": "markdown",
   "id": "c246b883",
   "metadata": {},
   "source": [
    "- Launch notebooks in Binder and Google Colab"
   ]
  },
  {
   "cell_type": "markdown",
   "id": "bf2a140f",
   "metadata": {},
   "source": []
  },
  {
   "cell_type": "markdown",
   "id": "4dbbd253",
   "metadata": {},
   "source": [
    "This introductory notebook sets the stage for the hands-on materials that follow."
   ]
  }
 ],
 "metadata": {},
 "nbformat": 4,
 "nbformat_minor": 5
}
