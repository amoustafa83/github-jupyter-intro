{
 "cells": [
  {
   "cell_type": "markdown",
   "id": "9c4c0b7c",
   "metadata": {},
   "source": [
    "# Introduction: Why This Workshop Matters"
   ]
  },
  {
   "cell_type": "markdown",
   "id": "93a3c69d",
   "metadata": {},
   "source": [
    "## Visual Reference: Cyberinfrastructure Overview from ACM\n",
    "![Cyberinfrastructure diagram from ACM DL](https://dl.acm.org/cms/attachment/9ce1cb5d-7300-44a2-aa28-cd3caa9724ce/uf1.jpg)\n",
    "\n",
    "*Source: Association for Computing Machinery (ACM)*"
   ]
  },
  {
   "cell_type": "markdown",
   "id": "349b32a5",
   "metadata": {},
   "source": [
    "## What Is This Workshop About?\n",
    "\n",
    "This workshop introduces foundational skills in collaborative research tools — including GitHub, Jupyter Notebooks, and cloud-based environments like Binder and Colab — through the lens of modern cyberinfrastructure (CI)."
   ]
  },
  {
   "cell_type": "markdown",
   "id": "ae1c8226",
   "metadata": {},
   "source": [
    "## How GitHub and Jupyter Support Cyberinfrastructure\n",
    "\n",
    "Modern cyberinfrastructure isn't just about supercomputers — it's about systems that support the entire research and teaching lifecycle. That includes:\n",
    "\n",
    "- Managing large datasets\n",
    "- Creating and sharing code and analysis\n",
    "- Collaborating across institutions\n",
    "- Ensuring research is **reproducible**, **transparent**, and **scalable**\n",
    "\n",
    "### GitHub’s Role in CI:\n",
    "GitHub provides:\n",
    "- **Version control**: Track changes over time\n",
    "- **Collaboration**: Multiple people can work on the same code or notebook\n",
    "- **Integration**: Works with CI systems like Jetstream2, ACCESS, and cloud pipelines\n",
    "- **Sharing**: Makes it easy to publish reusable research tools\n",
    "\n",
    "### Jupyter’s Role in CI:\n",
    "Jupyter Notebooks provide:\n",
    "- **Executable documentation**: Code + narrative + outputs all in one place\n",
    "- **Reproducibility**: Anyone can rerun a notebook and see the same results\n",
    "- **Portability**: Can run locally, on HPC systems, or in the cloud\n",
    "- **Interoperability**: Used with Python, R, Julia, and many data science tools\n",
    "\n",
    "Together, GitHub and Jupyter form the **entry point into more advanced CI platforms** — like supercomputing centers, science gateways, or containerized research workflows.\n"
   ]
  },
  {
   "cell_type": "markdown",
   "id": "8355756a",
   "metadata": {},
   "source": [
    "## How Binder Works\n",
    "\n",
    "When you click a Binder badge, here’s what happens:\n",
    "\n",
    "```\n",
    "          +------------------+\n",
    "          |  GitHub Repo     |\n",
    "          +--------+---------+\n",
    "                   |\n",
    "                   v\n",
    "        +---------------------+\n",
    "        |  Binder (mybinder)  |\n",
    "        |  Builds environment |\n",
    "        +---------+-----------+\n",
    "                  |\n",
    "                  v\n",
    "         +------------------+\n",
    "         | Jupyter Notebook |\n",
    "         | (Runs in browser)|\n",
    "         +------------------+\n",
    "```\n",
    "\n",
    "- You don’t need to install anything.\n",
    "- The environment is temporary — changes are **not saved** unless downloaded.\n"
   ]
  },
  {
   "cell_type": "markdown",
   "id": "dbdaf412",
   "metadata": {},
   "source": [
    "## How Google Colab Works\n",
    "\n",
    "```\n",
    "          +------------------+\n",
    "          |  GitHub Repo     |\n",
    "          +--------+---------+\n",
    "                   |\n",
    "                   v\n",
    "       +------------------------+\n",
    "       | Google Colab Backend   |\n",
    "       | Runs on Google Cloud   |\n",
    "       +------------------------+\n",
    "                   |\n",
    "                   v\n",
    "         +------------------+\n",
    "         | Jupyter Notebook |\n",
    "         | (Runs in browser)|\n",
    "         +------------------+\n",
    "```\n",
    "\n",
    "- Your work can be saved to **Google Drive**\n",
    "- Free GPU/TPU compute available\n",
    "- Easy for classroom or teaching use\n"
   ]
  },
  {
   "cell_type": "markdown",
   "id": "903c857e",
   "metadata": {},
   "source": [
    "## Summary\n",
    "\n",
    "| Platform | Saves Changes? | Needs Setup? | Ideal For |\n",
    "|----------|----------------|--------------|------------|\n",
    "| Binder   | No (temporary) | No           | Workshops, demos |\n",
    "| Colab    | Yes (Drive)    | No           | Teaching, student labs |\n",
    "| GitHub   | Yes            | Yes (Git)    | Version control, collaboration |\n",
    "| Jupyter  | Yes            | Local/Cloud  | Research, analysis, notebooks |\n"
   ]
  }
 ],
 "metadata": {},
 "nbformat": 4,
 "nbformat_minor": 5
}
