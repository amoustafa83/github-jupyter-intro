{
 "cells": [
  {
   "cell_type": "markdown",
   "id": "be7636c4",
   "metadata": {},
   "source": [
    "# 🚀 Running Jupyter Notebooks Without Installation"
   ]
  },
  {
   "cell_type": "markdown",
   "id": "a7625338",
   "metadata": {},
   "source": [
    "## 🎯 Learning Objectives\n",
    "- Launch notebooks using Binder and Colab\n",
    "- Understand the advantages of cloud execution\n",
    "- Learn how to save your work"
   ]
  },
  {
   "cell_type": "markdown",
   "id": "7624de5f",
   "metadata": {},
   "source": [
    "## 🧩 Why This Matters\n",
    "You can teach, demo, or collaborate on notebooks without requiring anyone to install Python or Jupyter."
   ]
  },
  {
   "cell_type": "markdown",
   "id": "802f6e78",
   "metadata": {},
   "source": [
    "## 🔗 Launch with Binder\n",
    "Click below to run the notebook in Binder:\n",
    "[![Binder](https://mybinder.org/badge_logo.svg)](https://mybinder.org/v2/gh/ms-cc-org/github-jupyter-intro/HEAD)"
   ]
  },
  {
   "cell_type": "markdown",
   "id": "11eb858a",
   "metadata": {},
   "source": [
    "## 🔗 Launch with Colab\n",
    "Click below to open in Google Colab:\n",
    "[![Open In Colab](https://colab.research.google.com/assets/colab-badge.svg)](https://colab.research.google.com/github/ms-cc-org/github-jupyter-intro/blob/main/notebooks/02_jupyter_notebook_basics.ipynb)"
   ]
  },
  {
   "cell_type": "markdown",
   "id": "72cea9d7",
   "metadata": {},
   "source": [
    "## 💾 Saving Your Work\n",
    "- **Colab**: `File → Save a copy in Drive`\n",
    "- **Binder**: `File → Download as → Notebook (.ipynb)`"
   ]
  },
  {
   "cell_type": "markdown",
   "id": "1a475bf2",
   "metadata": {},
   "source": [
    "## 🔁 Summary\n",
    "Using cloud platforms like Binder and Colab removes technical setup barriers and supports inclusive, scalable collaboration."
   ]
  }
 ],
 "metadata": {},
 "nbformat": 4,
 "nbformat_minor": 5
}
