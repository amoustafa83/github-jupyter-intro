{
 "cells": [
  {
   "cell_type": "markdown",
   "id": "de54a263",
   "metadata": {},
   "source": [
    "# Running Jupyter Notebooks with Binder and Colab"
   ]
  },
  {
   "cell_type": "markdown",
   "id": "4d79c297",
   "metadata": {},
   "source": [
    "## Why Use Cloud Platforms?"
   ]
  },
  {
   "cell_type": "markdown",
   "id": "d94cda75",
   "metadata": {},
   "source": [
    "Participants told us they sometimes struggle with installation. Binder and Colab let you run notebooks with zero setup."
   ]
  },
  {
   "cell_type": "markdown",
   "id": "c2f7c67e",
   "metadata": {},
   "source": [
    "## Learning Objectives"
   ]
  },
  {
   "cell_type": "markdown",
   "id": "9026beea",
   "metadata": {},
   "source": [
    "- Launch notebooks in the browser"
   ]
  },
  {
   "cell_type": "markdown",
   "id": "bd6cc5b7",
   "metadata": {},
   "source": [
    "- Understand the pros and cons of Binder and Colab"
   ]
  },
  {
   "cell_type": "markdown",
   "id": "322eee22",
   "metadata": {},
   "source": [
    "- Save your work remotely or locally"
   ]
  },
  {
   "cell_type": "markdown",
   "id": "a47da2eb",
   "metadata": {},
   "source": [
    "## Launch with Binder"
   ]
  },
  {
   "cell_type": "markdown",
   "id": "b4cd83ad",
   "metadata": {},
   "source": [
    "[![Binder](https://mybinder.org/badge_logo.svg)](https://mybinder.org/v2/gh/ms-cc-org/github-jupyter-intro/HEAD)"
   ]
  },
  {
   "cell_type": "markdown",
   "id": "cecee53c",
   "metadata": {},
   "source": [
    "## Launch with Colab"
   ]
  },
  {
   "cell_type": "markdown",
   "id": "074ab94b",
   "metadata": {},
   "source": [
    "[![Open In Colab](https://colab.research.google.com/assets/colab-badge.svg)](https://colab.research.google.com/github/ms-cc-org/github-jupyter-intro/blob/main/notebooks/02_jupyter_notebook_basics.ipynb)"
   ]
  },
  {
   "cell_type": "markdown",
   "id": "60576fa5",
   "metadata": {},
   "source": [
    "## Saving Your Work"
   ]
  },
  {
   "cell_type": "markdown",
   "id": "a40c6387",
   "metadata": {},
   "source": [
    "- In Colab: File → Save a copy in Drive"
   ]
  },
  {
   "cell_type": "markdown",
   "id": "c15fd9fe",
   "metadata": {},
   "source": [
    "- In Binder: File → Download As → .ipynb"
   ]
  },
  {
   "cell_type": "markdown",
   "id": "cc87c989",
   "metadata": {},
   "source": [
    "If you make changes, upload your notebook back to GitHub."
   ]
  }
 ],
 "metadata": {},
 "nbformat": 4,
 "nbformat_minor": 5
}
