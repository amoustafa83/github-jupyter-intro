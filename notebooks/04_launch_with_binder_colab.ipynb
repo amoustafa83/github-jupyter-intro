{
 "cells": [
  {
   "cell_type": "markdown",
   "id": "8e8fb515",
   "metadata": {},
   "source": [
    "# 🚀 Launching Jupyter Notebooks with Binder and Colab"
   ]
  },
  {
   "cell_type": "markdown",
   "id": "96c55a85",
   "metadata": {},
   "source": [
    "## 🧭 Why Use Cloud Platforms?\n",
    "Participants told us they sometimes struggle with infrastructure or installation. That's why we use Binder and Colab — zero setup required!"
   ]
  },
  {
   "cell_type": "markdown",
   "id": "31387e5a",
   "metadata": {},
   "source": [
    "## 🎯 Learning Objectives\n",
    "- Launch notebooks in the browser\n",
    "- Understand the pros/cons of Binder and Colab\n",
    "- Save your work remotely or locally"
   ]
  },
  {
   "cell_type": "markdown",
   "id": "a12839be",
   "metadata": {},
   "source": [
    "## 🔗 Launch with Binder\n",
    "Click the badge below to open the entire repo in a live session:\n",
    "[![Binder](https://mybinder.org/badge_logo.svg)](https://mybinder.org/v2/gh/ms-cc-org/github-jupyter-intro/HEAD)"
   ]
  },
  {
   "cell_type": "markdown",
   "id": "65582143",
   "metadata": {},
   "source": [
    "## 🔗 Launch with Colab\n",
    "Open a specific notebook in Colab:\n",
    "[![Open In Colab](https://colab.research.google.com/assets/colab-badge.svg)](https://colab.research.google.com/github/ms-cc-org/github-jupyter-intro/blob/main/notebooks/02_jupyter_notebook_basics.ipynb)"
   ]
  },
  {
   "cell_type": "markdown",
   "id": "989f68b4",
   "metadata": {},
   "source": [
    "## 💾 How to Save Your Work\n",
    "- **Binder:** File → Download As → .ipynb\n",
    "- **Colab:** File → Save a copy to Drive\n",
    "\n",
    "✅ Make sure to also upload your notebook back to GitHub if you made changes!"
   ]
  },
  {
   "cell_type": "markdown",
   "id": "1a663cc5",
   "metadata": {},
   "source": [
    "## 💬 Discussion Prompt\n",
    "How could a tool like this help with teaching or sharing your work at your institution?"
   ]
  }
 ],
 "metadata": {},
 "nbformat": 4,
 "nbformat_minor": 5
}
