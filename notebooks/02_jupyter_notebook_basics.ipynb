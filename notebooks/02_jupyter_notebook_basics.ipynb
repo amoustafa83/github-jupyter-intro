{
 "cells": [
  {
   "cell_type": "markdown",
   "id": "8c00df6e",
   "metadata": {},
   "source": [
    "# Jupyter Notebook Basics"
   ]
  },
  {
   "cell_type": "markdown",
   "id": "56a68cb0",
   "metadata": {},
   "source": [
    "## Orientation"
   ]
  },
  {
   "cell_type": "markdown",
   "id": "f4c3b5ca",
   "metadata": {},
   "source": [
    "Jupyter Notebooks let you combine code, text, and output in one document. You can explain your thinking while running experiments."
   ]
  },
  {
   "cell_type": "markdown",
   "id": "2575b0d3",
   "metadata": {},
   "source": [
    "## Learning Objectives"
   ]
  },
  {
   "cell_type": "markdown",
   "id": "3ccefb39",
   "metadata": {},
   "source": [
    "- Navigate the Jupyter interface"
   ]
  },
  {
   "cell_type": "markdown",
   "id": "d16087cd",
   "metadata": {},
   "source": [
    "- Use Markdown for documentation"
   ]
  },
  {
   "cell_type": "markdown",
   "id": "320a3471",
   "metadata": {},
   "source": [
    "- Write and execute Python code"
   ]
  },
  {
   "cell_type": "markdown",
   "id": "3ac2633f",
   "metadata": {},
   "source": [
    "## Markdown Formatting Practice"
   ]
  },
  {
   "cell_type": "markdown",
   "id": "f4461afc",
   "metadata": {},
   "source": [
    "Type the following in a Markdown cell:\n",
    "```markdown\n",
    "### My First Analysis\n",
    "This is **bold** and *italic* text.\n",
    "- Bullet 1\n",
    "- Bullet 2\n",
    "```"
   ]
  },
  {
   "cell_type": "markdown",
   "id": "3a33e45e",
   "metadata": {},
   "source": [
    "## Basic Python Code"
   ]
  },
  {
   "cell_type": "code",
   "execution_count": null,
   "id": "d9954b5d",
   "metadata": {},
   "outputs": [],
   "source": [
    "python\n",
    "x = 5\n",
    "y = x * 3\n",
    "print(\"Result:\", y)\n"
   ]
  },
  {
   "cell_type": "markdown",
   "id": "c6264956",
   "metadata": {},
   "source": [
    "## Plotting Example"
   ]
  },
  {
   "cell_type": "code",
   "execution_count": null,
   "id": "df98daed",
   "metadata": {},
   "outputs": [],
   "source": [
    "python\n",
    "import matplotlib.pyplot as plt\n",
    "x = [1, 2, 3, 4]\n",
    "y = [i ** 2 for i in x]\n",
    "plt.plot(x, y)\n",
    "plt.title('y = x squared')\n",
    "plt.xlabel('x')\n",
    "plt.ylabel('y')\n",
    "plt.grid(True)\n",
    "plt.show()\n"
   ]
  },
  {
   "cell_type": "markdown",
   "id": "0238c909",
   "metadata": {},
   "source": [
    "## Reflection"
   ]
  },
  {
   "cell_type": "markdown",
   "id": "6037d056",
   "metadata": {},
   "source": [
    "What kind of data do you work with? How could visualizing data like this help you?"
   ]
  }
 ],
 "metadata": {},
 "nbformat": 4,
 "nbformat_minor": 5
}
