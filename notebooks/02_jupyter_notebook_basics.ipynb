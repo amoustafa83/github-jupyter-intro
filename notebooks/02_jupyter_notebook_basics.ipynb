{
 "cells": [
  {
   "cell_type": "markdown",
   "id": "ab2871e1",
   "metadata": {},
   "source": [
    "# 📓 Jupyter Notebook Basics"
   ]
  },
  {
   "cell_type": "markdown",
   "id": "8e960d53",
   "metadata": {},
   "source": [
    "## Objective\n",
    "Understand markdown vs code cells, execute Python code, and create simple plots."
   ]
  },
  {
   "cell_type": "markdown",
   "id": "c64bbb21",
   "metadata": {},
   "source": [
    "## Example: Python code cell"
   ]
  },
  {
   "cell_type": "markdown",
   "id": "3a3942e0",
   "metadata": {},
   "source": [
    "```python\n",
    "x = [1, 2, 3, 4]\n",
    "y = [i**2 for i in x]\n",
    "print(y)\n",
    "```"
   ]
  },
  {
   "cell_type": "markdown",
   "id": "c6448e61",
   "metadata": {},
   "source": [
    "## Example: Plotting with Matplotlib"
   ]
  },
  {
   "cell_type": "markdown",
   "id": "cc038990",
   "metadata": {},
   "source": [
    "```python\n",
    "import matplotlib.pyplot as plt\n",
    "plt.plot(x, y)\n",
    "plt.title('y = x squared')\n",
    "plt.show()\n",
    "```"
   ]
  }
 ],
 "metadata": {},
 "nbformat": 4,
 "nbformat_minor": 5
}
