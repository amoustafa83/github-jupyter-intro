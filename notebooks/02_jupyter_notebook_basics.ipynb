{
 "cells": [
  {
   "cell_type": "markdown",
   "id": "a2a45608",
   "metadata": {},
   "source": [
    "# 📓 Jupyter Notebook Basics"
   ]
  },
  {
   "cell_type": "markdown",
   "id": "50255b7b",
   "metadata": {},
   "source": [
    "## What is a Jupyter Notebook?\n",
    "It's an interactive document that allows you to mix code, text, images, and charts."
   ]
  },
  {
   "cell_type": "markdown",
   "id": "e37eab4a",
   "metadata": {},
   "source": [
    "## Running Python Code"
   ]
  },
  {
   "cell_type": "code",
   "execution_count": null,
   "id": "d0a4cba6",
   "metadata": {},
   "outputs": [],
   "source": [
    "python\n",
    "print(\"Hello from Jupyter! 👋\")\n"
   ]
  },
  {
   "cell_type": "markdown",
   "id": "8cad6bd1",
   "metadata": {},
   "source": [
    "## Writing Markdown\n",
    "You can create rich text for explanations:\n",
    "```markdown\n",
    "## Subtitle\n",
    "- Bullet item\n",
    "**Bold** and *italic* text\n",
    "```"
   ]
  },
  {
   "cell_type": "markdown",
   "id": "c4969710",
   "metadata": {},
   "source": [
    "## Plotting Example"
   ]
  },
  {
   "cell_type": "code",
   "execution_count": null,
   "id": "32432721",
   "metadata": {},
   "outputs": [],
   "source": [
    "python\n",
    "import matplotlib.pyplot as plt\n",
    "x = [1, 2, 3, 4]\n",
    "y = [i**2 for i in x]\n",
    "plt.plot(x, y)\n",
    "plt.title(\"y = x squared\")\n",
    "plt.show()\n"
   ]
  }
 ],
 "metadata": {},
 "nbformat": 4,
 "nbformat_minor": 5
}
