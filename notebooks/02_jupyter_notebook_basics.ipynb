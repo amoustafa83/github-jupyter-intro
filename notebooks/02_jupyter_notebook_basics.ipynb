{
 "cells": [
  {
   "cell_type": "markdown",
   "id": "35afaecd",
   "metadata": {},
   "source": [
    "# 📓 Jupyter Notebook Basics"
   ]
  },
  {
   "cell_type": "markdown",
   "id": "42200d1a",
   "metadata": {},
   "source": [
    "## 🎯 Learning Objectives\n",
    "- Learn the Jupyter interface\n",
    "- Use Markdown for documentation\n",
    "- Write and run Python code"
   ]
  },
  {
   "cell_type": "markdown",
   "id": "6356730c",
   "metadata": {},
   "source": [
    "## 🧭 Getting Started\n",
    "When the notebook launches, double-click any cell to edit. Click `▶` (Run) to execute code cells."
   ]
  },
  {
   "cell_type": "markdown",
   "id": "a4978aa6",
   "metadata": {},
   "source": [
    "## ✍️ Markdown Example\n",
    "Type in a Markdown cell:\n",
    "```markdown\n",
    "### My First Section\n",
    "Here is *italic* and **bold** text.\n",
    "- Bullet 1\n",
    "- Bullet 2\n",
    "```"
   ]
  },
  {
   "cell_type": "markdown",
   "id": "317c69c2",
   "metadata": {},
   "source": [
    "## 🧮 Code Example"
   ]
  },
  {
   "cell_type": "code",
   "execution_count": null,
   "id": "e5c50a86",
   "metadata": {},
   "outputs": [],
   "source": [
    "python\n",
    "x = 5\n",
    "y = x + 10\n",
    "print(\"The result is:\", y)\n"
   ]
  },
  {
   "cell_type": "markdown",
   "id": "9496de97",
   "metadata": {},
   "source": [
    "## 📊 Plotting Example"
   ]
  },
  {
   "cell_type": "code",
   "execution_count": null,
   "id": "7a00900d",
   "metadata": {},
   "outputs": [],
   "source": [
    "python\n",
    "import matplotlib.pyplot as plt\n",
    "x = [1, 2, 3, 4]\n",
    "y = [i**2 for i in x]\n",
    "plt.plot(x, y)\n",
    "plt.title(\"y = x squared\")\n",
    "plt.xlabel(\"x\")\n",
    "plt.ylabel(\"y\")\n",
    "plt.show()\n"
   ]
  }
 ],
 "metadata": {},
 "nbformat": 4,
 "nbformat_minor": 5
}
