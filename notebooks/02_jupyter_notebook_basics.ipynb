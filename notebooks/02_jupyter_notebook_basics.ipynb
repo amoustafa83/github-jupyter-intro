{
 "cells": [
  {
   "cell_type": "markdown",
   "id": "79fb545f",
   "metadata": {},
   "source": [
    "# 📓 Jupyter Notebook Basics"
   ]
  },
  {
   "cell_type": "markdown",
   "id": "7fa8e185",
   "metadata": {},
   "source": [
    "## 🧭 Orientation\n",
    "Jupyter Notebooks let you combine code, text, and output — all in one document. You can explain your thinking while running experiments."
   ]
  },
  {
   "cell_type": "markdown",
   "id": "065d6707",
   "metadata": {},
   "source": [
    "## 🎯 Learning Objectives\n",
    "- Navigate the Jupyter interface\n",
    "- Use Markdown for documentation\n",
    "- Write and execute Python code"
   ]
  },
  {
   "cell_type": "markdown",
   "id": "34575e76",
   "metadata": {},
   "source": [
    "## ✍️ Practice: Markdown Formatting"
   ]
  },
  {
   "cell_type": "markdown",
   "id": "aa6df998",
   "metadata": {},
   "source": [
    "Try typing the following in a Markdown cell and running it:\n",
    "```markdown\n",
    "### My First Analysis\n",
    "This is **bold** and *italic* text.\n",
    "- Bullet 1\n",
    "- Bullet 2\n",
    "```"
   ]
  },
  {
   "cell_type": "markdown",
   "id": "908500da",
   "metadata": {},
   "source": [
    "## 🧮 Practice: Basic Python"
   ]
  },
  {
   "cell_type": "code",
   "execution_count": null,
   "id": "49076b38",
   "metadata": {},
   "outputs": [],
   "source": [
    "python\n",
    "x = 5\n",
    "y = x * 3\n",
    "print(\"Result:\", y)\n"
   ]
  },
  {
   "cell_type": "markdown",
   "id": "8fe74c96",
   "metadata": {},
   "source": [
    "## 📊 Visualization Example"
   ]
  },
  {
   "cell_type": "code",
   "execution_count": null,
   "id": "2d3310f8",
   "metadata": {},
   "outputs": [],
   "source": [
    "python\n",
    "import matplotlib.pyplot as plt\n",
    "x = [1, 2, 3, 4]\n",
    "y = [i ** 2 for i in x]\n",
    "plt.plot(x, y)\n",
    "plt.title('y = x squared')\n",
    "plt.xlabel('x')\n",
    "plt.ylabel('y')\n",
    "plt.grid(True)\n",
    "plt.show()\n"
   ]
  },
  {
   "cell_type": "markdown",
   "id": "69ba31a2",
   "metadata": {},
   "source": [
    "## 💬 Reflect\n",
    "- What kind of data do you work with?\n",
    "- How could visualizing data like this help you?"
   ]
  }
 ],
 "metadata": {},
 "nbformat": 4,
 "nbformat_minor": 5
}
